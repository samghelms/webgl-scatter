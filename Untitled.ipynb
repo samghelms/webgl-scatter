{
 "cells": [
  {
   "cell_type": "code",
   "execution_count": 1,
   "metadata": {
    "collapsed": true
   },
   "outputs": [],
   "source": [
    "from scatter import Scatter"
   ]
  },
  {
   "cell_type": "code",
   "execution_count": 2,
   "metadata": {
    "collapsed": true
   },
   "outputs": [],
   "source": [
    "import pandas as pd\n",
    "df = pd.read_json('data/tnse_embeddings_dev.json').T"
   ]
  },
  {
   "cell_type": "code",
   "execution_count": 3,
   "metadata": {
    "collapsed": true
   },
   "outputs": [],
   "source": [
    "# x = df.x.tolist()\n",
    "# y = df.y.tolist()\n",
    "# labs = df.tex.tolist()\n",
    "# s = Scatter(x, y, labs)"
   ]
  },
  {
   "cell_type": "code",
   "execution_count": 4,
   "metadata": {},
   "outputs": [
    {
     "name": "stdout",
     "output_type": "stream",
     "text": [
      "54286\n"
     ]
    }
   ],
   "source": [
    "import numpy as np\n",
    "n = 1000000\n",
    "x = np.random.uniform(-50,50,n).tolist()\n",
    "y = np.random.uniform(-50,50,n).tolist()\n",
    "labs = ['label'] * n\n",
    "s = Scatter(x, y, labs)"
   ]
  },
  {
   "cell_type": "code",
   "execution_count": 5,
   "metadata": {},
   "outputs": [
    {
     "data": {
      "text/html": [
       "<div id=\"65cb695a-483d-11e8-a9d1-600308a8611a\"/>"
      ]
     },
     "metadata": {},
     "output_type": "display_data"
    },
    {
     "name": "stdout",
     "output_type": "stream",
     "text": [
      "console.log('scatter script called')\n",
      "\n",
      "var el = document.getElementById('65cb695a-483d-11e8-a9d1-600308a8611a')\n",
      "\n",
      "console.log(el)\n",
      "\n"
     ]
    },
    {
     "data": {
      "application/javascript": [
       "console.log('scatter script called')\n",
       "\n",
       "var el = document.getElementById('65cb695a-483d-11e8-a9d1-600308a8611a')\n",
       "\n",
       "console.log(el)\n"
      ]
     },
     "metadata": {},
     "output_type": "display_data"
    }
   ],
   "source": [
    "s"
   ]
  }
 ],
 "metadata": {
  "kernelspec": {
   "display_name": "data_cleaning",
   "language": "python",
   "name": "data_cleaning"
  },
  "language_info": {
   "codemirror_mode": {
    "name": "ipython",
    "version": 3
   },
   "file_extension": ".py",
   "mimetype": "text/x-python",
   "name": "python",
   "nbconvert_exporter": "python",
   "pygments_lexer": "ipython3",
   "version": "3.6.4"
  }
 },
 "nbformat": 4,
 "nbformat_minor": 2
}
